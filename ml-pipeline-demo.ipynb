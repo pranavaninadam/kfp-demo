{
 "cells": [
  {
   "cell_type": "code",
   "execution_count": null,
   "id": "pressed-semiconductor",
   "metadata": {},
   "outputs": [],
   "source": [
    "!pip install kfp --upgrade"
   ]
  },
  {
   "cell_type": "code",
   "execution_count": 1,
   "id": "b8f6f32b",
   "metadata": {},
   "outputs": [],
   "source": [
    "import kfp\n",
    "from kfp import components"
   ]
  },
  {
   "cell_type": "markdown",
   "id": "f7a51da1",
   "metadata": {},
   "source": [
    "### Load pre-built components for our pipeline"
   ]
  },
  {
   "cell_type": "code",
   "execution_count": 2,
   "id": "unexpected-tooth",
   "metadata": {},
   "outputs": [],
   "source": [
    "chicago_taxi_dataset_op = components.load_component_from_url(\n",
    "    'https://raw.githubusercontent.com/kubeflow/pipelines/e3337b8bdcd63636934954e592d4b32c95b49129/components/datasets/Chicago%20Taxi/component.yaml'\n",
    ")\n",
    "\n",
    "\n",
    "convert_csv_to_apache_parquet_op = components.load_component_from_url(\n",
    "    'https://raw.githubusercontent.com/kubeflow/pipelines/0d7d6f41c92bdc05c2825232afe2b47e5cb6c4b3/components/_converters/ApacheParquet/from_CSV/component.yaml'\n",
    ")\n",
    "\n",
    "\n",
    "xgboost_train_on_csv_op = components.load_component_from_url(\n",
    "    'https://raw.githubusercontent.com/kubeflow/pipelines/567c04c51ff00a1ee525b3458425b17adbe3df61/components/XGBoost/Train/component.yaml'\n",
    ")\n",
    "\n",
    "\n",
    "xgboost_predict_on_csv_op = components.load_component_from_url(\n",
    "    'https://raw.githubusercontent.com/kubeflow/pipelines/31939086d66d633732f75300ce69eb60e9fb0269/components/XGBoost/Predict/component.yaml'\n",
    ")\n",
    "\n",
    "\n",
    "xgboost_train_on_parquet_op = components.load_component_from_url(\n",
    "    'https://raw.githubusercontent.com/kubeflow/pipelines/0ae2f30ff24beeef1c64cc7c434f1f652c065192/components/XGBoost/Train/from_ApacheParquet/component.yaml'\n",
    ")\n",
    "\n",
    "\n",
    "xgboost_predict_on_parquet_op = components.load_component_from_url(\n",
    "    'https://raw.githubusercontent.com/kubeflow/pipelines/31939086d66d633732f75300ce69eb60e9fb0269/components/XGBoost/Predict/from_ApacheParquet/component.yaml'\n",
    ")\n"
   ]
  },
  {
   "cell_type": "markdown",
   "id": "397834d5",
   "metadata": {},
   "source": [
    "### Creating a pipeline"
   ]
  },
  {
   "cell_type": "code",
   "execution_count": 3,
   "id": "serious-nursery",
   "metadata": {},
   "outputs": [],
   "source": [
    "@kfp.dsl.pipeline(name='xgboost')\n",
    "def xgboost_pipeline():\n",
    "    # Based on experimentation, many steps need 1Gi memory.\n",
    "\n",
    "    training_data_csv = chicago_taxi_dataset_op(\n",
    "        where='trip_start_timestamp >= \"2019-01-01\" AND trip_start_timestamp < \"2019-02-01\"',\n",
    "        select='tips,trip_seconds,trip_miles,pickup_community_area,dropoff_community_area,fare,tolls,extras,trip_total',\n",
    "        limit=10000,\n",
    "    ).output\n",
    "\n",
    "    # Training and prediction on dataset in CSV format\n",
    "    model_trained_on_csv = xgboost_train_on_csv_op(\n",
    "        training_data=training_data_csv,\n",
    "        label_column=0,\n",
    "        objective='reg:squarederror',\n",
    "        num_iterations=200,\n",
    "    ).set_memory_limit('1Gi').outputs['model']\n",
    "\n",
    "    xgboost_predict_on_csv_op(\n",
    "        data=training_data_csv,\n",
    "        model=model_trained_on_csv,\n",
    "        label_column=0,\n",
    "    ).set_memory_limit('1Gi')\n",
    "\n",
    "    # Training and prediction on dataset in Apache Parquet format\n",
    "    training_data_parquet = convert_csv_to_apache_parquet_op(\n",
    "        training_data_csv).output\n",
    "\n",
    "    model_trained_on_parquet = xgboost_train_on_parquet_op(\n",
    "        training_data=training_data_parquet,\n",
    "        label_column_name='tips',\n",
    "        objective='reg:squarederror',\n",
    "        num_iterations=200,\n",
    "    ).set_memory_limit('1Gi').outputs['model']\n",
    "\n",
    "    xgboost_predict_on_parquet_op(\n",
    "        data=training_data_parquet,\n",
    "        model=model_trained_on_parquet,\n",
    "        label_column_name='tips',\n",
    "    ).set_memory_limit('1Gi')\n",
    "\n",
    "    # Checking cross-format predictions\n",
    "    xgboost_predict_on_parquet_op(\n",
    "        data=training_data_parquet,\n",
    "        model=model_trained_on_csv,\n",
    "        label_column_name='tips',\n",
    "    ).set_memory_limit('1Gi')\n",
    "\n",
    "    xgboost_predict_on_csv_op(\n",
    "        data=training_data_csv,\n",
    "        model=model_trained_on_parquet,\n",
    "        label_column=0,\n",
    "    ).set_memory_limit('1Gi')\n"
   ]
  },
  {
   "cell_type": "markdown",
   "id": "d55f4518",
   "metadata": {},
   "source": [
    "### Connect to your kfp client"
   ]
  },
  {
   "cell_type": "code",
   "execution_count": null,
   "id": "941c0089",
   "metadata": {},
   "outputs": [],
   "source": [
    "authservice_session='authservice_session=<your-cookie>'\n",
    "client = kfp.Client(host=\"dev-tap.aiops-platform.io/pipeline\", cookies=authservice_session)"
   ]
  },
  {
   "cell_type": "markdown",
   "id": "333032de",
   "metadata": {},
   "source": [
    "###### To create a pipeline it must be attached to an experiment, if you donot specify an experiment name, the pipelines will run under the 'Default' experiment."
   ]
  },
  {
   "cell_type": "code",
   "execution_count": null,
   "id": "7534c8f2",
   "metadata": {},
   "outputs": [],
   "source": [
    "# creating an experiment\n",
    "experiment = client.create_experiment(\n",
    "    name=\"<specify-the-experiment-name>\",\n",
    "    description=\"add a desccription\",\n",
    "    namespace=\"<your-namespace>\"\n",
    ") "
   ]
  },
  {
   "cell_type": "code",
   "execution_count": null,
   "id": "d9c1330b",
   "metadata": {},
   "outputs": [],
   "source": [
    "client.create_run_from_pipeline_func(\n",
    "        xgboost_pipeline, # name of the pipeline function\n",
    "        arguments={},\n",
    "        run_name=\"<specify-the-run-name>\",\n",
    "        experiment_name=\"<specify-the-experiment-name>\"\n",
    ")"
   ]
  }
 ],
 "metadata": {
  "kernelspec": {
   "display_name": "Python 3 (ipykernel)",
   "language": "python",
   "name": "python3"
  },
  "language_info": {
   "codemirror_mode": {
    "name": "ipython",
    "version": 3
   },
   "file_extension": ".py",
   "mimetype": "text/x-python",
   "name": "python",
   "nbconvert_exporter": "python",
   "pygments_lexer": "ipython3",
   "version": "3.9.7"
  }
 },
 "nbformat": 4,
 "nbformat_minor": 5
}
