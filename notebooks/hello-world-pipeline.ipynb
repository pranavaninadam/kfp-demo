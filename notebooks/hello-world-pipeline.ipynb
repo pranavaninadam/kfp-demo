{
 "cells": [
  {
   "cell_type": "markdown",
   "id": "1b4723c6-0ef9-44a4-9081-982060ab2896",
   "metadata": {},
   "source": [
    "### Importing Modules"
   ]
  },
  {
   "cell_type": "code",
   "execution_count": 1,
   "id": "fbd27d5d-3807-4230-96db-f3951a69f86a",
   "metadata": {},
   "outputs": [],
   "source": [
    "from typing import NamedTuple\n",
    "\n",
    "import kfp\n",
    "import kfp.components as components\n",
    "import kfp.dsl as dsl\n",
    "from kfp.components import InputPath, OutputPath\n",
    "\n",
    "\n",
    "NAMESPACE = \"kubeflow-user-example-com\"\n",
    "\n",
    "BUCKET_NAME = \"pranava-data\"\n",
    "\n",
    "# DATASET_URL = \"https://www.kaggle.com/uciml/iris/download\"\n",
    "\n",
    "# base image to build custom components\n",
    "BASE_IMAGE = \"mesosphere/kubeflow:1.2.0-1.1.0-tensorflow-2.4.0\""
   ]
  },
  {
   "cell_type": "markdown",
   "id": "3a0b1dfe-4163-4c46-94d1-900fce437e70",
   "metadata": {},
   "source": [
    "### Building Pipeline Components"
   ]
  },
  {
   "cell_type": "code",
   "execution_count": 2,
   "id": "7e82a2c4-970e-4869-b62c-b00a32a0e96c",
   "metadata": {},
   "outputs": [],
   "source": [
    "def get_data(input_path: str) -> str:\n",
    "    \"\"\"\n",
    "    gets data from s3 and downloads the dataset\n",
    "    :param input_path: Bucket to upload to\n",
    "    :return: path to dataset\n",
    "    \"\"\"\n",
    "    \n",
    "    import boto3\n",
    "    \n",
    "    s3 = boto3.client('s3')\n",
    "    s3.download_file(input_path, \"Iris.csv\", \"Iris.csv\")\n",
    "    \n",
    "    return input_path"
   ]
  },
  {
   "cell_type": "code",
   "execution_count": 3,
   "id": "46242018-a2f1-4248-a024-5a8aea59e642",
   "metadata": {},
   "outputs": [],
   "source": [
    "def pre_process_data(input_path: str) -> str:\n",
    "    \"\"\"\n",
    "    pre process the data and save the model to s3\n",
    "    :param input_path: location of dataset\n",
    "    :return: path to Model file\n",
    "    \"\"\"\n",
    "    \n",
    "    import boto3\n",
    "    import pandas as pd\n",
    "    from sklearn.tree import DecisionTreeClassifier\n",
    "    from sklearn import tree\n",
    "    import joblib\n",
    "    \n",
    "    s3 = boto3.client('s3')\n",
    "    s3.download_file(input_path, \"Iris.csv\", \"Iris.csv\")\n",
    "    \n",
    "    iris = pd.read_csv('Iris.csv')\n",
    "    \n",
    "    iris.drop('Id',axis=1,inplace=True)\n",
    "    \n",
    "    x = iris.drop(columns='Species')\n",
    "    y = iris['Species']\n",
    "    \n",
    "    classifier = DecisionTreeClassifier()\n",
    "    classifier.fit(x,y)\n",
    "    \n",
    "    joblib.dump(classifier, \"iris-model-1\")\n",
    "    \n",
    "    s3.upload_file(\"iris-model-1\", input_path, \"iris-model-1\")\n",
    "    \n",
    "    return input_path"
   ]
  },
  {
   "cell_type": "code",
   "execution_count": 4,
   "id": "255eb87c-2379-47b6-bba1-452e0cf5771a",
   "metadata": {},
   "outputs": [],
   "source": [
    "def predict_model(input_path: str):\n",
    "    \"\"\"\n",
    "    loads the model and displays the predicted results\n",
    "    :param input_path: location of model file\n",
    "    :return: None\n",
    "    \"\"\"\n",
    "    \n",
    "    import boto3\n",
    "    import pandas as pd\n",
    "    from sklearn.tree import DecisionTreeClassifier\n",
    "    from sklearn import tree\n",
    "    import joblib\n",
    "    \n",
    "    s3 = boto3.client('s3')\n",
    "    s3.download_file(input_path, \"iris-model-1\", \"iris-model-1\")\n",
    "    \n",
    "    model = joblib.load(\"iris-model-1\")\n",
    "    \n",
    "    print(model.predict([[\"5.1\",\"3.5\", \"1.4\", \"0.2\"]]))\n",
    "    print(model.predict([[\"6.4\", \"3.2\", \"4.5\", \"1.5\"]]))\n",
    "    print(model.predict([[\"6.7\",\"3.3\", \"5.7\", \"2.5\"]]))\n",
    "    "
   ]
  },
  {
   "cell_type": "markdown",
   "id": "35cdcecc-6469-443f-ae98-969ffaff6bbb",
   "metadata": {},
   "source": [
    "### creating components from the above functions"
   ]
  },
  {
   "cell_type": "code",
   "execution_count": 5,
   "id": "309b4669-c8be-4f69-81d8-3d5320b9848b",
   "metadata": {},
   "outputs": [],
   "source": [
    "getDataOP = components.func_to_container_op(get_data, base_image=BASE_IMAGE)\n",
    "preProcessDataOP = components.func_to_container_op(pre_process_data, base_image=BASE_IMAGE)\n",
    "predictModelOP = components.func_to_container_op(predict_model, base_image=BASE_IMAGE)"
   ]
  },
  {
   "cell_type": "markdown",
   "id": "7e2d54c4-8d11-4b6b-a2e7-5c3e3cd364b5",
   "metadata": {},
   "source": [
    "### defining the pipeline"
   ]
  },
  {
   "cell_type": "code",
   "execution_count": 6,
   "id": "7fc7f7c8-284e-40d9-86f2-c705d5892346",
   "metadata": {},
   "outputs": [],
   "source": [
    "@dsl.pipeline(\n",
    "    name=\"Sample Hello world pipeline\",\n",
    "    description=\"A sample pipeline to demonstrate multi-step model training, evaluation, export using Iris data classification\",\n",
    ")\n",
    "def sample_pipeline(input_path: str = BUCKET_NAME):\n",
    "    path = getDataOP(input_path).output\n",
    "    path = preProcessDataOP(input_path=path).output\n",
    "    predictModelOP(input_path=path)"
   ]
  },
  {
   "cell_type": "markdown",
   "id": "c68a6afc-d95b-439d-90af-ef3db72073da",
   "metadata": {},
   "source": [
    "### connect to kfp client"
   ]
  },
  {
   "cell_type": "code",
   "execution_count": 7,
   "id": "ce56396b-dbd4-43fb-8cfb-88f22b398c86",
   "metadata": {},
   "outputs": [],
   "source": [
    "client = kfp.Client()"
   ]
  },
  {
   "cell_type": "markdown",
   "id": "35f044f7-67d8-4788-87f9-38236628befc",
   "metadata": {},
   "source": [
    "### create an experiment"
   ]
  },
  {
   "cell_type": "code",
   "execution_count": 8,
   "id": "367df2cd-946b-4055-9ff1-791acf2848ce",
   "metadata": {},
   "outputs": [
    {
     "data": {
      "text/html": [
       "<a href=\"/pipeline/#/experiments/details/bddd4337-b2a8-4019-a1fc-0f8d08ae0b64\" target=\"_blank\" >Experiment details</a>."
      ],
      "text/plain": [
       "<IPython.core.display.HTML object>"
      ]
     },
     "metadata": {},
     "output_type": "display_data"
    }
   ],
   "source": [
    "experiment = client.create_experiment(name=\"sample-iris-pipeline\", description=\"A sample pipeline to demonstrate multi-step model training, evaluation, export using Iris data classification\",namespace=NAMESPACE) "
   ]
  },
  {
   "cell_type": "markdown",
   "id": "f9049e47-2fdf-47d0-95d8-37d99ae2fe42",
   "metadata": {},
   "source": [
    "### create run"
   ]
  },
  {
   "cell_type": "code",
   "execution_count": 9,
   "id": "260fe92b-3bf0-4416-808b-012e80599f19",
   "metadata": {},
   "outputs": [
    {
     "data": {
      "text/html": [
       "<a href=\"/pipeline/#/experiments/details/bddd4337-b2a8-4019-a1fc-0f8d08ae0b64\" target=\"_blank\" >Experiment details</a>."
      ],
      "text/plain": [
       "<IPython.core.display.HTML object>"
      ]
     },
     "metadata": {},
     "output_type": "display_data"
    },
    {
     "data": {
      "text/html": [
       "<a href=\"/pipeline/#/runs/details/aa7a38d1-a751-413f-8474-2bde54442c7e\" target=\"_blank\" >Run details</a>."
      ],
      "text/plain": [
       "<IPython.core.display.HTML object>"
      ]
     },
     "metadata": {},
     "output_type": "display_data"
    },
    {
     "data": {
      "text/plain": [
       "RunPipelineResult(run_id=aa7a38d1-a751-413f-8474-2bde54442c7e)"
      ]
     },
     "execution_count": 9,
     "metadata": {},
     "output_type": "execute_result"
    }
   ],
   "source": [
    "client.create_run_from_pipeline_func(\n",
    "        sample_pipeline, arguments={}, run_name=\"sample-iris-demo-run-1\", experiment_name=\"sample-iris-pipeline\")"
   ]
  },
  {
   "cell_type": "code",
   "execution_count": null,
   "id": "62200d36-1b98-4f94-82f4-50c091277daa",
   "metadata": {},
   "outputs": [],
   "source": []
  }
 ],
 "metadata": {
  "kernelspec": {
   "display_name": "Python 3",
   "language": "python",
   "name": "python3"
  },
  "language_info": {
   "codemirror_mode": {
    "name": "ipython",
    "version": 3
   },
   "file_extension": ".py",
   "mimetype": "text/x-python",
   "name": "python",
   "nbconvert_exporter": "python",
   "pygments_lexer": "ipython3",
   "version": "3.8.10"
  }
 },
 "nbformat": 4,
 "nbformat_minor": 5
}
